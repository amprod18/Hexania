{
 "cells": [
  {
   "cell_type": "code",
   "execution_count": 6,
   "metadata": {},
   "outputs": [],
   "source": [
    "import numpy as np\n",
    "import shapez2"
   ]
  },
  {
   "cell_type": "code",
   "execution_count": 12,
   "metadata": {},
   "outputs": [],
   "source": [
    "points1 = [(0, 0), (1, 0), (1, 1), (0, 1)]\n",
    "points2 = [(0, 0), (1, 0), (0, 1)]"
   ]
  },
  {
   "cell_type": "code",
   "execution_count": 19,
   "metadata": {},
   "outputs": [
    {
     "name": "stdout",
     "output_type": "stream",
     "text": [
      "Area 2: 0.5\n",
      "Perimeter: 3.414213562373095\n",
      "Area: 0.5; Difference in area: 0.0\n"
     ]
    }
   ],
   "source": [
    "perimeter = 0\n",
    "area = 0\n",
    "real_area1 = 1\n",
    "real_area2 = 0.5\n",
    "\n",
    "figure = points2\n",
    "\n",
    "for i, point in enumerate(figure):\n",
    "    x0, y0 = point\n",
    "    x1, y1 = figure[(i+1)%len(figure)]\n",
    "    x_1, y_1 = figure[(i-1)%len(figure)]\n",
    "    perimeter += np.sqrt((x1 - x0)**2 + (y1 - y0)**2)\n",
    "\n",
    "for i, point in enumerate(figure):\n",
    "    if i == 0:\n",
    "        continue\n",
    "    if i == len(figure) - 1:\n",
    "        break\n",
    "    x0, y0 = figure[0]\n",
    "    x1, y1 = figure[(i)%len(figure)]\n",
    "    x2, y2 = figure[(i+1)%len(figure)]\n",
    "    triangle = shapez2.Triangle(side1=np.sqrt((x1 - x0)**2 + (y1 - y0)**2), side2=np.sqrt((x2 - x0)**2 + (y2 - y0)**2), side3=np.sqrt((x1 - x2)**2 + (y1 - y2)**2), n=2)\n",
    "    area += triangle.get_surface()[0]\n",
    "    \n",
    "print(f'Perimeter: {perimeter}')\n",
    "print(f'Area: {area}; Difference in area: {abs(area - real_area2)}')"
   ]
  },
  {
   "cell_type": "code",
   "execution_count": null,
   "metadata": {},
   "outputs": [],
   "source": []
  }
 ],
 "metadata": {
  "kernelspec": {
   "display_name": "Python 3",
   "language": "python",
   "name": "python3"
  },
  "language_info": {
   "codemirror_mode": {
    "name": "ipython",
    "version": 3
   },
   "file_extension": ".py",
   "mimetype": "text/x-python",
   "name": "python",
   "nbconvert_exporter": "python",
   "pygments_lexer": "ipython3",
   "version": "3.11.0"
  }
 },
 "nbformat": 4,
 "nbformat_minor": 2
}
